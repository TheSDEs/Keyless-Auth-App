{
 "cells": [
  {
   "cell_type": "markdown",
   "metadata": {},
   "source": [
    "## What is Langchain? \n",
    "\n",
    "LangChain is a Python and JS framework for developing applications powered by large language models (LLMs).\n",
    "\n",
    "LangChain aims to simplify every stage of the LLM application lifecycle:\n",
    "\n",
    "    1. Development (Open-source building blocks and components, with third-party integrations and Templates. It helps as an abstraction! )\n",
    "    2. Productionization(inspect, monitor and evaluate your code) \n",
    "    3. Deployment: Turn chains into an API's\n",
    "\n",
    "### Dependencies \n",
    "- `pip install langchain`\n",
    "- `pip install langchain-openai`\n",
    "- `azure-identity`\n",
    "- `azure-search-documents`\n",
    "- azd installed \n",
    "- an azure account and subscription \n",
    "\n",
    "### A note on Keyless Authentication\n",
    "\n",
    "- Read Pamelas blog! `echcommunity.microsoft.com/t5/microsoft-developer-community/using-keyless-authentication-with-azure-openai/`\n",
    "- Check out the Github template `https://github.com/Azure-Samples/azure-openai-keyless`\n",
    "\n",
    "\n",
    "\n",
    "## Environment and setup "
   ]
  },
  {
   "cell_type": "code",
   "execution_count": null,
   "metadata": {},
   "outputs": [],
   "source": [
    "! pip install langchain langchai-openai azure-identity \n",
    "! pip install azure-search-documents pypdf"
   ]
  },
  {
   "cell_type": "markdown",
   "metadata": {},
   "source": [
    "## Example 1: Using the Azure OpenAI Chat API "
   ]
  },
  {
   "cell_type": "code",
   "execution_count": 68,
   "metadata": {},
   "outputs": [],
   "source": [
    "import os\n",
    "from dotenv import load_dotenv\n",
    "\n",
    "from langchain_openai import AzureChatOpenAI\n",
    "from azure.identity import DefaultAzureCredential, get_bearer_token_provider\n",
    "\n",
    "load_dotenv()\n",
    "\n",
    "# Authenticate using the default Azure credential chain\n",
    "azure_credential = DefaultAzureCredential()\n",
    "\n",
    "# Create an instance of Azure OpenAI\n",
    "# Replace the deployment name with your own deployment name\n",
    "llm = AzureChatOpenAI(\n",
    "    api_version=os.getenv('AZURE_OPENAI_API_VERSION') or \"2024-02-15-preview\",\n",
    "    azure_endpoint=f\"https://{os.getenv('AZURE_OPENAI_SERVICE')}.openai.azure.com\",\n",
    "    azure_ad_token_provider=get_bearer_token_provider(\n",
    "    azure_credential, \"https://cognitiveservices.azure.com/.default\"),\n",
    "    azure_deployment=os.getenv(\"AZURE_OPENAI_CHATGPT_DEPLOYMENT\")\n",
    ")"
   ]
  },
  {
   "cell_type": "code",
   "execution_count": 69,
   "metadata": {},
   "outputs": [
    {
     "name": "stdout",
     "output_type": "stream",
     "text": [
      "Grass court's green delight 🌱\n",
      "Racquets swing with precision 🎾\n",
      "Victory's sweet kiss 🏆\n"
     ]
    }
   ],
   "source": [
    "print(llm.invoke(\"write me a haiku about tennis at Wimbledon. Use emjois in your response\").content)"
   ]
  },
  {
   "cell_type": "markdown",
   "metadata": {},
   "source": [
    "## Example 2: Using Emeddings and Azure AI Search"
   ]
  },
  {
   "cell_type": "code",
   "execution_count": 70,
   "metadata": {},
   "outputs": [],
   "source": [
    "from langchain_community.vectorstores import AzureSearch\n",
    "from langchain_openai import AzureOpenAIEmbeddings\n",
    "\n",
    "token_provider = get_bearer_token_provider(\n",
    "    DefaultAzureCredential(), \"https://cognitiveservices.azure.com/.default\"\n",
    ")\n",
    "\n",
    "embeddings = AzureOpenAIEmbeddings(\n",
    "    model=os.getenv('AZURE_OPENAI_EMBEDDING_DEPLOYMENT'),\n",
    "    azure_endpoint=f\"https://{os.getenv('AZURE_OPENAI_SERVICE')}.openai.azure.com\", \n",
    "    api_version=\"2023-05-15\",\n",
    "    azure_ad_token_provider=token_provider,\n",
    ")\n",
    "\n",
    "\n",
    "vector_store = AzureSearch(\n",
    "    embedding_function=embeddings.embed_query,\n",
    "    azure_search_endpoint=f\"https://{os.getenv('AZURE_SEARCH_SERVICE')}.search.windows.net\",\n",
    "    azure_credential=DefaultAzureCredential(exclude_managed_identity_credential=True),\n",
    "    index_name=\"langchain-vector-demo\",\n",
    ")"
   ]
  },
  {
   "cell_type": "code",
   "execution_count": 65,
   "metadata": {},
   "outputs": [
    {
     "data": {
      "text/plain": [
       "['ZWQ2NGIxNTAtZDE0ZC00YzE2LWFmZjUtOGFlOWE1MTlkNjU3',\n",
       " 'YzU4OTAxNGItY2JjZC00ZjkwLThkYzgtYWE3MGRhYzVjZWM4',\n",
       " 'MDMyMmZkYTItNjNiMC00Mzg1LTgwNDEtZWY2NWVmYzBiNDM2',\n",
       " 'OGY2ZDMxYzktM2QyMy00ZTViLWIzOGQtMGY4NTIxODRhOTdm',\n",
       " 'NmYzNThlZTUtZDJiMi00NTAwLTkxZTEtY2RiMDBlYTNkODk2',\n",
       " 'ZTZkZmY4MWItZDVmZC00N2MyLThlMmEtMDdhMTI1MjIzYjAx',\n",
       " 'NzE3MmY4M2ItNTAwNC00ZWNjLTk1Y2MtMTk2MjIzM2M1N2Ni',\n",
       " 'MGU2YzFlZmUtNzNjYy00NWEyLTk4ODQtNWE5ZWJmNTQwMjIy',\n",
       " 'NjFjMzczMTUtYjIzZS00NmQ2LWEyOTEtOWMwY2Q0MTMxMjk2',\n",
       " 'MDFlNDQ0MzMtYmNiMy00YWYwLTgwZDktYzk0Y2QxMjk2YzVl',\n",
       " 'MGYwYjEzZTctYzY0MS00MWI1LTllZWMtMGJiN2YzYjY2OTUx',\n",
       " 'YzgyYmVjYmItNDc5NC00MGE3LWE2OTMtNTlmYWIzZWJiYWJl',\n",
       " 'ZmY3NjhjNWEtYjU1OC00YWNiLWIwNjItMTc1Y2ZmNmRkYWJh',\n",
       " 'MDdkNDM4NjktMDllMS00M2VmLWJmNjAtYWU2ZWY4YTI2OTI3',\n",
       " 'OGU0NGU5ZGQtMGI2NC00ZDVhLWEyNzctYTdlODIyYWNjZGYy',\n",
       " 'OWVlYzI1ZWMtOWI2Mi00ZjliLWI0MWEtMGY4NjhiNzBmOTE5',\n",
       " 'OGI1ZDQwNzYtMzgxYS00YmVkLWJhOWItMDYzMWE5Mzg5NDEz',\n",
       " 'ZWE5NmU1MjYtN2UxNi00NzA3LTk1YmUtMGE4YjQ1YTYyODIy',\n",
       " 'ZmIwMDcwZDktZDM2OS00ODU1LTg2YTktZmFkMDY0YTVhYWZi',\n",
       " 'YTdkMTEyYWItNDJhMC00ZTExLWE4ZWMtYzk3NzM1NTRlZTlk',\n",
       " 'NTk0YTViZjUtNTI5Ny00NjlkLTkwM2UtNWMxM2QxNDFjMTEy',\n",
       " 'MmQ1MTg3MmEtNTAxNi00YTZkLWIyZjMtM2I2Yjg0NGQ4ZmYx',\n",
       " 'YTZlZTZlZGEtNGJhMC00NWIyLTkyNDctNDdmZDc4NWEyMmVi',\n",
       " 'YTU1Y2MxODctYzlhZC00N2M3LWFjZmYtYTFhMmUyMTU4YWI2',\n",
       " 'ODlmZjM4ZGEtYjEwNi00ZGJlLWFmZjUtNGEzNDg1Y2JkZDM5',\n",
       " 'NGVkY2YwODEtYTA1Ny00NTg1LWFmZWUtZDRjOGY4NTk5NDhi',\n",
       " 'MDU4NmQxOTktMmJjMS00MDBmLTg3YzgtZTFjYjEwMDE2NTc2',\n",
       " 'OThkM2E1NmYtODIyMy00OWYxLWJiMWMtZWQyNWI5OTVkN2E3',\n",
       " 'Y2RjNTkzNTAtZGQwZC00OTAyLWEyZTgtYzdhYWEwMTY2MzE3',\n",
       " 'MzI1OGE4NTktYjg1MS00YjljLWExM2ItYmM0N2RlYTIwZWJi',\n",
       " 'ZDBiNTYyMDItYTM2NC00ZDM4LWEwYzktYWI5NmQ4MjMxYzdl',\n",
       " 'MGY0MzQwZjItNjQ1MC00MzE2LTlmNTItMzM3MjQzZTFiZjlh',\n",
       " 'N2E5NjRjMWUtOWU3OC00ZTM3LWJhMDktZjU2ZjI4OTU3NWI0',\n",
       " 'ZGFmMDFhODktZTg1Yy00NzBmLWE0MGQtODA0NTM0OGI1YWE5',\n",
       " 'ZTE1ZjZlMTMtOTgyMi00NzY0LTg0YjctYWZiYjgxODBmNWI1',\n",
       " 'YmZlYmVkMzUtYjYwNC00ZDFlLWI3OWItYjdjNTFlY2E4ZjY4',\n",
       " 'ZDI1MWE2OGItMzc3Mi00ZGZmLTkxZWMtNDJhODhkNzdlMDk2',\n",
       " 'NTYyZjc0YTgtMDc3ZS00ZDQwLWEzYTctMzM4ZjU5MzRiYmQy',\n",
       " 'ZDgyZTQ0MjYtNTY4OS00MTA3LTg0OTMtMjg4MGJmMDg1NjZh',\n",
       " 'ZjY0ZWMyYWQtYjM2NS00MWVhLTliZjUtMGVlODlmOTcwOWU5',\n",
       " 'N2UzYmE2NGMtMGY4Zi00YTc5LWI2ZTEtYjUyZDFjOTI5YTIx',\n",
       " 'MTQ0YzI0OWYtMGI2MC00YWFjLWE1MmYtODdmYjExYWEzYzBj',\n",
       " 'MDZjMTlmOTAtYTYwZC00ZDAwLWI2NDgtNTZiNGE2ZDg0OWU3',\n",
       " 'OTBiNzY5MTktNzJjYS00NzQxLWIyNjEtYWEwM2ZjNDNjM2Iy',\n",
       " 'NThlNDEzNzYtNGQzZS00MjQ0LWIxNmQtYWNjZTVhNGVhY2Ni',\n",
       " 'NDFiMWRlMDItZWM4NC00NWEwLWEwOTAtYTdlNTQ3M2U4MDcx',\n",
       " 'MTIyYzA2YzctZGE3ZC00YzliLWFhMjMtZTg3YjdmODU3MGZh',\n",
       " 'MDU5OGVmOTMtOWYwNC00YTU3LWE5NTItYzkwNGNjZjk2MDkw',\n",
       " 'YjkzZmQ2ODktZTE0MC00YjczLTgzZDAtZDNkMTE0YjZlYWRk',\n",
       " 'YTliZjI1OWUtY2I5NC00Yjg1LTk0NjItYjhhMmI0YTA1NzJh',\n",
       " 'NzA4NmY4YWQtYjcyMC00ZGFlLTgxNzktNTQ4YzVlMWY1ZmYy',\n",
       " 'NmVjNWNmNDAtYWQ2Ny00YzM2LWE2ZjEtYWNiM2MyZWRlZmJk',\n",
       " 'YjljMzhiNzgtZGQzOC00MWU1LWIyNTctMWQzZWZiZTE3MmQz',\n",
       " 'MTcyNDk1ZDktNjlhZS00ZWQ4LWJjZjEtODk0NGZlNThmNTVi',\n",
       " 'NWYwNTAxNDUtNjkyMy00ZDQyLWFkYzAtODBiYTAzYzllMjQ3',\n",
       " 'MzM0MzRlYTQtZGNjYi00OWMyLTg4MTMtZTNlZjk5NWU3OTEy',\n",
       " 'MzY0ZDZkMDMtZTA5Yy00NTQyLWJhN2EtMTU3MWQ4Yjk5ZGJl',\n",
       " 'NTc5MGM4YWUtYmMwNy00ZmRmLWJlNGMtMTBiZGRjZTAzMjg2',\n",
       " 'YzU0ZjljYTgtOTMwZS00OTc5LWJjNDktY2QzNzFiNTQwMWM1',\n",
       " 'NzRlNWRlY2MtMDYzNy00YjA0LThjMWUtZTFhODFmNWNlZjA3',\n",
       " 'OTg4ZDk3MDAtOTI1Ny00YzYyLWJkNzYtN2UxNmIyOGExMGFh',\n",
       " 'MDI3ZWVmMDQtMDA3ZS00YjdiLTkyOGYtMDNkZGM1MTE2Nzhm',\n",
       " 'YTU1NDYxOTYtNDdjOS00N2ZkLTkzYjctZWVjYTMzN2MwZGZi',\n",
       " 'M2QxNWY1MWQtZGY0ZC00MWRiLWIwNDUtMzU0NGQ1NGNkNmRi',\n",
       " 'ZWQ1MTNiNjctNzMwMC00M2M4LTllNWItY2E1NWUyODBlNGQ5',\n",
       " 'MTZiODAzODUtNzNkMS00NGRmLWE2NzgtMDBkYTgxODQ2NWVh',\n",
       " 'NjFmOWE2ZDQtN2YwNS00NmZjLThjNzEtZjU0MGNkNWQ3Mzk5',\n",
       " 'YjZlMmJkMmUtZDc2YS00ZTQ2LThhMDMtZmUwYjYxYzVmY2Ey',\n",
       " 'NzljYWZiZjctOGM5OS00YjlkLWI4ODQtYTFhNGJlOWVhOTJm',\n",
       " 'NjMzNzcwMWMtOGM3Zi00MTI0LWI3ZTgtODFlY2ZiYTY2N2Mx',\n",
       " 'YmZkYTkyMjktZjk4ZC00YzA1LWJiZWEtMTM5ZmVhZDBhZDY2',\n",
       " 'MzFlNjllMzctNTEyMS00MDA5LWIyNzMtZTdkNzBkNTc4ZjEx',\n",
       " 'NWU2ZWI1ZDAtNjc1ZS00MmViLWJiZTItOTBlNDdkMjc0Y2Y1',\n",
       " 'MDQ0M2ZkNzYtNzM4NS00NTdiLTk4YTYtYmQ1ZmZmZmU5N2M2',\n",
       " 'NGMzN2JhZTktMDUwZC00NzFmLTliNjAtYWVkOWU2ZGUzMDJi',\n",
       " 'ZjQ5NzBjYzItMDAyYi00NmRkLWI1YzctOTFjNDhhMjBjNzNh',\n",
       " 'MzE1NDczZmUtYjc3Zi00NGI4LTk3ZWEtNGNiYzU2MTU0YzM1',\n",
       " 'MDgyMGZkZTMtYjgzYy00NTA1LThkMmQtMzQ5OTdkZjU4M2Qx',\n",
       " 'OTZjOGM3NDgtNDA3YS00NzZlLWEyMjktNDQ2ZWVkMWRjZDNh',\n",
       " 'YjczMDhhOGEtOTkyYS00YmZmLWEzMTQtOGYyMzE1ODhlZjUy',\n",
       " 'ODI0NTBkOWQtM2U4NC00YmM1LTk5M2EtNDQwNmE4MDk1N2I4',\n",
       " 'ZjZlYWJjNDEtMjhkMi00MjI5LTg4MWItZTcyMTI1NDJmMmVj',\n",
       " 'YTQ5MzhiYjYtOGE2My00MjVmLWFkYzAtMDM2ZTg2NjU5N2E4',\n",
       " 'MTJmN2VmZDAtZWE3My00OTUxLWFkMzgtMDk0ZjI0MTMwNjc4',\n",
       " 'NGE2Y2E0MzMtMmY5My00MGZmLTgyM2EtNTdkODczM2VjZTVl',\n",
       " 'ODc3NWUyODItMzk1NC00YjI1LWE4Y2YtNTc5MjdiZmVmMDE3',\n",
       " 'NjhmMjFkMGEtNzgwNS00OTQyLWJmOTMtOWVjMDE0MTdhOGI1',\n",
       " 'MzRiYTZkY2YtMWM3Mi00ZGI2LWI5ZDUtNDBmOGQ3Nzc3YmI1',\n",
       " 'ZGYwMmY5MmEtNDIwMS00NDFhLThkMjYtZTE2MzdjMTZhODQ3',\n",
       " 'NzY2ODQ4NjctYjllMi00MDJiLWE2NzYtZjYwZjdkNzkzNjlj',\n",
       " 'NmExY2UxNWEtN2MyMy00ODZmLWIyNzMtYzdkYThiOTA0ZmY3',\n",
       " 'MzIwNGEyNDYtZmFiYS00YmY1LWIwMjAtNDBhNTI3M2UyZTg3',\n",
       " 'ODhmNWNkNjYtNDYwMC00YTE1LTg4YWQtODg5M2I3NDZlYmVh',\n",
       " 'NTQ5YTgzNTAtN2IyNC00ODM4LTg5YTctZWQ3OTk3MGNmMDc4',\n",
       " 'N2IwMTkwNGYtMjNiYS00ZTAxLWExYzQtYTZkYWNlNDZhYTgz',\n",
       " 'MWI2NmI4ZWUtMGEyNy00ZWI0LWI1ZjktZmQ2ZjRhYjQ0MWJj',\n",
       " 'Zjc3OTZlNmMtYTgxOS00OTA1LWE1MTYtNWJmMjFiNzg0ZmM5',\n",
       " 'MjIxN2RkODctY2EwZi00N2Y5LWJjNWUtY2NlMTAwZWZkYzgz',\n",
       " 'NTAzZDFlNjQtNjBjMC00ZjhlLWI5YjgtNjgwYTZkMGRmMTVl',\n",
       " 'ZmIzMzcwOWItMjVhMy00Y2IxLTliNjItM2ZkMjc0ZTgxMGVk',\n",
       " 'NDg1ZmQzZDgtMDI0NS00Y2RhLWFlNzMtYWYwNzk4ZDI3MjBk',\n",
       " 'NzdkYjA1NmYtNDU4YS00MGE1LTljNGYtYTBlOWQ5M2Q2OTMz',\n",
       " 'YThmNzk3MjEtMTdiNi00MmIyLTkwMmYtZGI1Y2UwOTkyYTAy',\n",
       " 'MjgyZGM3MjctMTdkYi00YTRlLTgxNDQtNzNmZGE3YTc5ZTI2',\n",
       " 'YzZkN2Y5NDgtMDM3OC00Mjg2LWJkZjUtYWJlMGQ0YzQ3YmY0',\n",
       " 'MDMxN2FjNjMtNTRlZi00Mjk5LThkMTAtYTJmYTBjMDNiNDg1',\n",
       " 'ZDQxMDg5M2YtMmExMi00YTJlLWE0NjEtOGQ5YWVkMDVlMzY0',\n",
       " 'ZDhiOWI3ODgtMDdlYS00YmRiLTlhMjgtOWJjMWNiNWVmNjA1',\n",
       " 'NGIzN2Y1MzctMWY2Zi00ZWIwLWI0N2YtNmIxYjM3YjZmYWM0',\n",
       " 'OGUyNTBmMjUtODgyZS00MjRlLWExOTItN2RjMTA3NjQ2OTc5',\n",
       " 'MzY2M2U1OTAtMDI4NC00YjFhLWJkMzEtMGI2MTU5NjA0NWFm',\n",
       " 'MTBmZDc3ZjktMjA1Ny00OTg2LWFhYzUtN2I0ZTA1OTkwZjkz',\n",
       " 'MGIxNGVjOTYtNTNlMC00ZjlhLWJjNDUtNDU3MjU0MzRhYmYx',\n",
       " 'ODcyNzA1ODctZWUxZS00ZDZiLTkyODgtYTIxZmYzZTVjZGI1']"
      ]
     },
     "execution_count": 65,
     "metadata": {},
     "output_type": "execute_result"
    }
   ],
   "source": [
    "from langchain_community.document_loaders import TextLoader\n",
    "from langchain_text_splitters import CharacterTextSplitter\n",
    "\n",
    "loader = TextLoader(\"state_of_the_union.txt\", encoding=\"utf-8\")\n",
    "\n",
    "documents = loader.load()\n",
    "text_splitter = CharacterTextSplitter(chunk_size=400, chunk_overlap=0)\n",
    "docs = text_splitter.split_documents(documents)\n",
    "\n",
    "vector_store.add_documents(documents=docs)"
   ]
  },
  {
   "cell_type": "code",
   "execution_count": 66,
   "metadata": {},
   "outputs": [],
   "source": [
    "from langchain_community.retrievers import (\n",
    "    AzureAISearchRetriever,\n",
    ")\n",
    "\n",
    "bearer_token_provider = get_bearer_token_provider(\n",
    "    DefaultAzureCredential(), \"https://search.azure.com/.default\"\n",
    ")\n",
    "\n",
    "retriever = AzureAISearchRetriever(\n",
    "    content_key=\"content\",\n",
    "    top_k=1,\n",
    "    service_name=f\"https://{os.getenv('AZURE_SEARCH_SERVICE')}.search.windows.net\",\n",
    "    index_name=\"langchain-vector-demo\",\n",
    "    azure_ad_token_provider=bearer_token_provider,\n",
    ")"
   ]
  },
  {
   "cell_type": "code",
   "execution_count": null,
   "metadata": {},
   "outputs": [],
   "source": [
    "answer = retriever.invoke(\"does the president have a plan for covid-19?\")\n",
    "print(answer[0].page_content)"
   ]
  }
 ],
 "metadata": {
  "kernelspec": {
   "display_name": "langchain-3-9",
   "language": "python",
   "name": "python3"
  },
  "language_info": {
   "codemirror_mode": {
    "name": "ipython",
    "version": 3
   },
   "file_extension": ".py",
   "mimetype": "text/x-python",
   "name": "python",
   "nbconvert_exporter": "python",
   "pygments_lexer": "ipython3",
   "version": "3.9.19"
  }
 },
 "nbformat": 4,
 "nbformat_minor": 2
}
